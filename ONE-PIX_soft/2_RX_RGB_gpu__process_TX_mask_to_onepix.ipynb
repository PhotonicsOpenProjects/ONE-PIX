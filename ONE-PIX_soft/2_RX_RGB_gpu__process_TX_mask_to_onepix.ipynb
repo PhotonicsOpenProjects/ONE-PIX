{
 "cells": [
  {
   "cell_type": "markdown",
   "id": "00901c54-9644-4c85-88e2-4d095143fb1c",
   "metadata": {},
   "source": [
    "***Import libraries for the inference***"
   ]
  },
  {
   "cell_type": "code",
   "execution_count": 1,
   "id": "3927626a",
   "metadata": {},
   "outputs": [],
   "source": [
    "import os\n",
    "import sys\n",
    "import time\n",
    "import numpy as np\n",
    "import pandas as pd\n",
    "import matplotlib.pyplot as plt\n",
    "import torch\n",
    "from torchvision import transforms as T\n",
    "import cv2\n",
    "from PIL import Image, ImageChops\n",
    "from torchsummary import summary\n",
    "import segmentation_models_pytorch as smp\n",
    "import albumentations as A\n",
    "\n",
    "from math import ceil "
   ]
  },
  {
   "cell_type": "markdown",
   "id": "39a4940c-821d-4aa2-b81a-6664a4709806",
   "metadata": {},
   "source": [
    "***Try to load the model on GPU (cuda) else CPU***"
   ]
  },
  {
   "cell_type": "code",
   "execution_count": 2,
   "id": "bcf9472d",
   "metadata": {},
   "outputs": [
    {
     "name": "stdout",
     "output_type": "stream",
     "text": [
      "cuda\n"
     ]
    }
   ],
   "source": [
    "device = torch.device(\"cuda\" if torch.cuda.is_available() else \"cpu\")\n",
    "print(device)\n",
    "\n",
    "model=torch.load(r'C:\\Users\\eflam\\Desktop\\stagenokia\\stage_eflamm\\Unet-Mobilenet-full.pt',map_location=device)"
   ]
  },
  {
   "cell_type": "markdown",
   "id": "972886a1-da1a-4aa4-a786-7b4cbf70df90",
   "metadata": {},
   "source": [
    "***Function to prepare the RGB image and predict a segmented image/mask***"
   ]
  },
  {
   "cell_type": "code",
   "execution_count": 3,
   "id": "bfef8475",
   "metadata": {},
   "outputs": [],
   "source": [
    "def predict_image_mask_miou_2(model, image, mean=[0.485, 0.456, 0.406], std=[0.229, 0.224, 0.225]):\n",
    "    model.eval()\n",
    "    t = T.Compose([T.ToTensor(), T.Normalize(mean, std)]) \n",
    "    image = t(image)\n",
    "    model.to(device); image=image.to(device)\n",
    "    with torch.no_grad():\n",
    "        \n",
    "        image = image.unsqueeze(0)\n",
    "        output = model(image)\n",
    "        masked = torch.argmax(output, dim=1)\n",
    "        masked = masked.cpu().squeeze(0)\n",
    "    return masked"
   ]
  },
  {
   "cell_type": "markdown",
   "id": "8ae618fa-f335-4f6d-9ac6-b944d0c2f7da",
   "metadata": {},
   "source": [
    "***Server is waiting for an RGB image, then two masks are predicted and saved locally on the server.***"
   ]
  },
  {
   "cell_type": "code",
   "execution_count": 8,
   "id": "be5b2d18",
   "metadata": {},
   "outputs": [
    {
     "name": "stdout",
     "output_type": "stream",
     "text": [
      "Temps total pour traiter 1 images : 0.010327792167663575\n"
     ]
    }
   ],
   "source": [
    "#otpion to print all the tensor for debug\n",
    "np.set_printoptions(threshold=sys.maxsize) \n",
    "starting_time=time.time()\n",
    "#path to take the RGB image and save the masks\n",
    "RGB_path_gpu =  \"C:\\\\Users\\\\eflam\\\\Desktop\\\\stagenokia\\\\RGB\\\\\"\n",
    "mask_path_gpu = \"C:\\\\Users\\\\eflam\\\\Desktop\\\\stagenokia\\\\mask\\\\\"\n",
    "#resize the image\n",
    "transform = A.Resize(960, 1280, interpolation=cv2.INTER_NEAREST)\n",
    "\n",
    "#full path\n",
    "filename =\"img1.jpg\"\n",
    "path_full_RGB = RGB_path_gpu+filename\n",
    "#read th RGB image with cv2\n",
    "frame = cv2.imread(path_full_RGB)\n",
    "\n",
    "#wait uploading of the Pi\n",
    "while(frame is None) :\n",
    "    frame = cv2.imread(path_full_RGB)\n",
    "    time.sleep(4)\n",
    "\n",
    "\n",
    "frame = cv2.cvtColor(frame, cv2.COLOR_BGR2RGB) #color conversion of the frame\n",
    "aug = transform(image=frame) \n",
    "img = Image.fromarray(aug['image']) #resize the image from the original one \n",
    "\n",
    "pred_mask = predict_image_mask_miou_2(model,img) #prediction of a mask (background is hided)\n",
    "pred_mask.to(device) #send the mask to the device to manipulate it\n",
    "\n",
    "#confuse the class plant and self-propagating plant because the model is not trained on a large datset.\n",
    "ped_mask=pred_mask/2\n",
    "pred_mask=np.ceil(pred_mask)\n",
    "#print(pred_mask)\n",
    "tensor_vege=np.array(pred_mask * 255).astype(np.uint8) #tensor containing pixel with values (0;255)\n",
    "np.save(r\"C:\\Users\\eflam\\Desktop\\stagenokia\\mask\\mask_vege.npy\",tensor_vege)\n",
    "    \n",
    "img = Image.fromarray(tensor_vege) #transform the saved tensor to an image\n",
    "img_tempo=ImageChops.invert(img) #inverse the value of the pixel in order to have a mask that hides the vegetation\n",
    "tensor_back=np.array(img_tempo) #transform the image to array/tensor\n",
    "tensor_back=(tensor_back).astype(np.uint8)\n",
    "np.save(r\"C:\\Users\\eflam\\Desktop\\stagenokia\\mask\\mask_back.npy\",tensor_back)\n",
    "\n",
    "#print(np.max(tensor_vege))\n",
    "#print(np.max(tensor_back))\n",
    "#print(tensor_vege)\n",
    "#print(tensor_back)\n",
    "\n",
    "mask_name = \"mask1.jpg\" \n",
    "plt.imsave(mask_path_gpu+mask_name,pred_mask) #save the jpg mask that hides the background\n",
    "   \n",
    "end_time=time.time()\n",
    "tot1=end_time-starting_time\n",
    "print('Temps total pour traiter 1 images :', tot1/100)"
   ]
  },
  {
   "cell_type": "markdown",
   "id": "52f8547d-c5db-4325-9cd5-890c877bd20a",
   "metadata": {},
   "source": [
    "***Plot the two masks in numpy format***"
   ]
  },
  {
   "cell_type": "code",
   "execution_count": 9,
   "id": "3a4eb874",
   "metadata": {},
   "outputs": [
    {
     "data": {
      "image/png": "[encoded data removed]",
      "text/plain": [
       "<Figure size 432x288 with 2 Axes>"
      ]
     },
     "metadata": {
      "needs_background": "light"
     },
     "output_type": "display_data"
    }
   ],
   "source": [
    "os.chdir(r\"C:\\Users\\eflam\\Desktop\\stagenokia\\mask\")\n",
    "mask_vege=np.load(\"mask_vege.npy\")\n",
    "mask_back=np.load(\"mask_back.npy\")\n",
    "\n",
    "plt.figure()\n",
    "plt.subplot(121)\n",
    "plt.imshow(mask_vege)\n",
    "plt.subplot(122)\n",
    "plt.imshow(mask_back)\n",
    "plt.show()"
   ]
  }
 ],
 "metadata": {
  "kernelspec": {
   "display_name": "Python 3 (ipykernel)",
   "language": "python",
   "name": "python3"
  },
  "language_info": {
   "codemirror_mode": {
    "name": "ipython",
    "version": 3
   },
   "file_extension": ".py",
   "mimetype": "text/x-python",
   "name": "python",
   "nbconvert_exporter": "python",
   "pygments_lexer": "ipython3",
   "version": "3.10.6"
  }
 },
 "nbformat": 4,
 "nbformat_minor": 5
}
